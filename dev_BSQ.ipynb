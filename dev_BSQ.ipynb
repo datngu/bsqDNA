{
 "cells": [
  {
   "cell_type": "code",
   "execution_count": 32,
   "id": "5f874d8d-cf0e-412a-b1de-3a079e78df34",
   "metadata": {},
   "outputs": [],
   "source": [
    "# Successfully installed\n",
    "# huggingface-hub-0.29.3\n",
    "# regex-2024.11.6 \n",
    "# safetensors-0.5.3 \n",
    "# tokenizers-0.21.1 \n",
    "# transformers-4.50.1\n",
    "\n",
    "import torch\n",
    "from torch import Tensor\n",
    "import torch.nn as nn\n",
    "import torch.nn.functional as F\n",
    "from torch.nn import CrossEntropyLoss, MSELoss, BCEWithLogitsLoss\n",
    "\n",
    "from transformers import (\n",
    "    AutoConfig,\n",
    "    AutoModel,\n",
    "    AutoModelForMaskedLM,\n",
    "    AutoModelForSequenceClassification,\n",
    "    AutoModelForTokenClassification,\n",
    "    PretrainedConfig,\n",
    "    PreTrainedModel,\n",
    ")\n",
    "\n",
    "from transformers.activations import ACT2FN\n",
    "\n",
    "from transformers.modeling_outputs import (\n",
    "    BaseModelOutput,\n",
    "    MaskedLMOutput,\n",
    "    SequenceClassifierOutput,\n",
    "    TokenClassifierOutput,\n",
    ")\n",
    "from typing import Optional, Tuple, Union\n",
    "\n",
    "from transformers import RoFormerConfig\n",
    "\n",
    "from transformers.models.roformer.modeling_roformer import (\n",
    "    RoFormerEncoder,\n",
    "    RoFormerSinusoidalPositionalEmbedding,\n",
    ")\n",
    "\n",
    "from bsqdna.utils import *\n",
    "# #from .modules import ByteNetEncoder, ConvNetEncoder, MLP, CNN"
   ]
  },
  {
   "cell_type": "code",
   "execution_count": 6,
   "id": "fddfad44-5f70-401b-be54-cf4c67b6b211",
   "metadata": {},
   "outputs": [],
   "source": [
    "inputs = torch.rand(8, 4, 4096)"
   ]
  },
  {
   "cell_type": "code",
   "execution_count": 24,
   "id": "30a6eaaa-1458-479f-b6cd-a29ec33f1eea",
   "metadata": {},
   "outputs": [],
   "source": [
    "pat = PatchifyLinear(8, 128)"
   ]
  },
  {
   "cell_type": "code",
   "execution_count": 25,
   "id": "27b47718-cfc7-46aa-a137-0d0a07718321",
   "metadata": {},
   "outputs": [],
   "source": [
    "unpat = UnPatchifyLinear(8, 128)"
   ]
  },
  {
   "cell_type": "code",
   "execution_count": 26,
   "id": "6df5a5e3-1d0f-4403-92a3-c7da63bd72ca",
   "metadata": {},
   "outputs": [],
   "source": [
    "a = pat(inputs)"
   ]
  },
  {
   "cell_type": "code",
   "execution_count": 27,
   "id": "9007e50d-6e76-490a-a478-049c109938c8",
   "metadata": {},
   "outputs": [],
   "source": [
    "b = unpat(a)"
   ]
  },
  {
   "cell_type": "code",
   "execution_count": 28,
   "id": "25ca04ce-db66-4a21-9577-ccd7b5fcb356",
   "metadata": {},
   "outputs": [
    {
     "data": {
      "text/plain": [
       "torch.Size([8, 4, 4096])"
      ]
     },
     "execution_count": 28,
     "metadata": {},
     "output_type": "execute_result"
    }
   ],
   "source": [
    "b.shape"
   ]
  },
  {
   "cell_type": "code",
   "execution_count": 29,
   "id": "d358310c-4db6-44e2-b382-af0a45ca2f83",
   "metadata": {},
   "outputs": [
    {
     "data": {
      "text/plain": [
       "torch.Size([8, 512, 128])"
      ]
     },
     "execution_count": 29,
     "metadata": {},
     "output_type": "execute_result"
    }
   ],
   "source": [
    "a.shape"
   ]
  },
  {
   "cell_type": "code",
   "execution_count": null,
   "id": "72f9ffbe-f1c5-42ff-b749-da4c3b6509c7",
   "metadata": {},
   "outputs": [],
   "source": []
  },
  {
   "cell_type": "code",
   "execution_count": null,
   "id": "143d3b53-cb6d-42e2-b656-d6ecc6ffb5fc",
   "metadata": {},
   "outputs": [],
   "source": []
  },
  {
   "cell_type": "code",
   "execution_count": null,
   "id": "2d53cd26-9fe9-4e77-b109-42deb661e337",
   "metadata": {},
   "outputs": [],
   "source": []
  },
  {
   "cell_type": "code",
   "execution_count": 13,
   "id": "bd8cd409-02fe-46cf-a8e7-0ff953fccd40",
   "metadata": {},
   "outputs": [],
   "source": [
    "pat = PatchifyLinear(8, 128)"
   ]
  },
  {
   "cell_type": "code",
   "execution_count": 14,
   "id": "69ccf94c-40c8-41f3-8c21-97cf5485bbef",
   "metadata": {},
   "outputs": [
    {
     "data": {
      "text/plain": [
       "torch.Size([8, 512, 128])"
      ]
     },
     "execution_count": 14,
     "metadata": {},
     "output_type": "execute_result"
    }
   ],
   "source": [
    "pat(inputs).shape"
   ]
  },
  {
   "cell_type": "code",
   "execution_count": null,
   "id": "bfd92da8-38bf-48a9-a58a-bbab3dc03686",
   "metadata": {},
   "outputs": [],
   "source": []
  },
  {
   "cell_type": "code",
   "execution_count": null,
   "id": "67611f30-6455-41b1-890f-c0993580ec25",
   "metadata": {},
   "outputs": [],
   "source": []
  },
  {
   "cell_type": "code",
   "execution_count": null,
   "id": "b1b5e785-c36e-47ba-aafc-11e6ff23abd7",
   "metadata": {},
   "outputs": [],
   "source": [
    "\n",
    "class BSQDNAmodel(PreTrainedModel):\n",
    "    def __init__(self, config):\n",
    "        super().__init__(config)\n",
    "        self.config = config\n",
    "        self.embeddings = EMBEDDING_CLASS[config.embedding](config)\n",
    "        self.encoder = RoFormerEncoder(config)\n",
    "        self.ln_f = nn.LayerNorm(config.hidden_size, bias=config.bias)\n",
    "\n",
    "        # Initialize weights and apply final processing\n",
    "        self.post_init()\n",
    "\n",
    "    def forward(self, input_ids=None, input_probs=None, aux_features=None, **kwargs):\n",
    "        x = self.embeddings(\n",
    "            input_ids=input_ids, input_probs=input_probs, aux_features=aux_features\n",
    "        )\n",
    "        x = self.encoder(x)\n",
    "\n",
    "\n",
    "        # should be optional\n",
    "        x = self.ln_f(x.last_hidden_state)\n",
    "        x = BaseModelOutput(last_hidden_state=x)\n",
    "\n",
    "\n",
    "        return x\n",
    "\n",
    "    def get_input_embeddings(self):\n",
    "        return self.embeddings.word_embeddings\n",
    "\n",
    "    def set_input_embeddings(self, value):\n",
    "        self.embeddings.word_embeddings = value\n"
   ]
  },
  {
   "cell_type": "code",
   "execution_count": 30,
   "id": "185437f3-75e3-4061-afef-fcaf1bef8d68",
   "metadata": {},
   "outputs": [],
   "source": []
  },
  {
   "cell_type": "code",
   "execution_count": null,
   "id": "0358297c-be52-4ec6-8802-e7755b015b7e",
   "metadata": {},
   "outputs": [],
   "source": []
  }
 ],
 "metadata": {
  "kernelspec": {
   "display_name": "Python 3 (ipykernel)",
   "language": "python",
   "name": "python3"
  },
  "language_info": {
   "codemirror_mode": {
    "name": "ipython",
    "version": 3
   },
   "file_extension": ".py",
   "mimetype": "text/x-python",
   "name": "python",
   "nbconvert_exporter": "python",
   "pygments_lexer": "ipython3",
   "version": "3.12.9"
  }
 },
 "nbformat": 4,
 "nbformat_minor": 5
}
