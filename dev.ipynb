{
 "cells": [
  {
   "cell_type": "code",
   "execution_count": 23,
   "id": "c6adc7ec-03b9-44d3-aecc-acde971a32bb",
   "metadata": {},
   "outputs": [],
   "source": [
    "genome_path = '/Users/datn/GENOMES/human/Homo_sapiens.GRCh38.dna.primary_assembly.fa'"
   ]
  },
  {
   "cell_type": "code",
   "execution_count": 149,
   "id": "2681395b-0e37-4a12-95f4-e02549b2b5df",
   "metadata": {},
   "outputs": [],
   "source": [
    "import argparse\n",
    "import pysam\n",
    "import numpy as np\n",
    "import os\n",
    "from pathlib import Path\n"
   ]
  },
  {
   "cell_type": "code",
   "execution_count": 25,
   "id": "5c449be9-396e-4bc7-a0d3-f0b0ab9707f6",
   "metadata": {},
   "outputs": [],
   "source": [
    "fasta = pysam.FastaFile(genome_path)"
   ]
  },
  {
   "cell_type": "code",
   "execution_count": 118,
   "id": "f5a829a7-26d8-485b-a704-e2d49b8238a4",
   "metadata": {},
   "outputs": [],
   "source": [
    "def fasta_to_np(genome_path, chroms):\n",
    "    fasta = pysam.FastaFile(genome_path)\n",
    "    data = {}\n",
    "    for chrom in chroms:\n",
    "        seq = fasta.fetch(chrom)  # Fetch chromosome sequence\n",
    "        seq_list = list(seq)  # Convert to list of characters\n",
    "        data[chrom] = np.array(seq_list, dtype=\"S1\")  # Convert to NumPy array with dtype 'S1'\n",
    "    fasta.close()\n",
    "    return data"
   ]
  },
  {
   "cell_type": "code",
   "execution_count": null,
   "id": "b5fcb512-8403-4900-9f94-d3fca3cbc6e2",
   "metadata": {},
   "outputs": [],
   "source": [
    "def bin_genome_and_save(data, chrom_name, output_dir, bin_size=512, step=256):\n",
    "    os.makedirs(output_dir, exist_ok=True)\n",
    "    chrom_size = len(data)\n",
    "    bins = np.arange(0, chrom_size - bin_size + 1, step)\n",
    "    \n",
    "    valid_idx = 0\n",
    "    for start in bins:\n",
    "        end = start + bin_size\n",
    "        seq = data[start:end]\n",
    "        if b'N' not in seq:  # Check if sequence contains 'N'\n",
    "            #output_path = os.path.join(output_dir, f\"{chrom_name}_{valid_idx}_{start}_{end}.npz\")\n",
    "            #np.savez_compressed(output_path, seq)\n",
    "            #valid_idx += 1"
   ]
  },
  {
   "cell_type": "code",
   "execution_count": 119,
   "id": "4aebe30e-af4e-48dc-a616-a4f2bda7650c",
   "metadata": {},
   "outputs": [],
   "source": [
    "data = fasta_to_np(genome_path, ['20', '21'])"
   ]
  },
  {
   "cell_type": "code",
   "execution_count": 121,
   "id": "eaff8046-9a6d-4ed5-89b4-212c7e6a9392",
   "metadata": {},
   "outputs": [],
   "source": [
    "chrom_name = '20'\n",
    "output_dir = 'test_data'\n",
    "bin_size=512\n",
    "step=256"
   ]
  },
  {
   "cell_type": "code",
   "execution_count": 127,
   "id": "ea87b00c-4b61-4d49-a98c-f4e50c258085",
   "metadata": {},
   "outputs": [],
   "source": [
    "    seq_data = data[chrom_name]\n",
    "    os.makedirs(output_dir, exist_ok=True)\n",
    "    chrom_size = len(seq_data)\n",
    "    bins = np.arange(0, chrom_size - bin_size + 1, step)"
   ]
  },
  {
   "cell_type": "code",
   "execution_count": 129,
   "id": "dc9872f9-7019-4fc7-a4f1-56e41569081e",
   "metadata": {},
   "outputs": [],
   "source": [
    "valid_idx = 0\n",
    "res = []\n",
    "for start in bins:\n",
    "    end = start + bin_size\n",
    "    seq = seq_data[start:end]\n",
    "    if b'N' not in seq:\n",
    "        res.append(seq)"
   ]
  },
  {
   "cell_type": "code",
   "execution_count": 131,
   "id": "387da685-59e6-47ff-8db3-b4f3990f0db9",
   "metadata": {},
   "outputs": [],
   "source": []
  },
  {
   "cell_type": "code",
   "execution_count": 159,
   "id": "aa7a0d59-e438-4ab1-aa30-6c587fad19bc",
   "metadata": {},
   "outputs": [],
   "source": [
    "def bin_genome_and_save(data, chrom_name, output_dir, bin_size=512, step=256):\n",
    "    seq_data = data[chrom_name]\n",
    "    os.makedirs(output_dir, exist_ok=True)\n",
    "    chrom_size = len(seq_data)\n",
    "    bins = np.arange(0, chrom_size - bin_size + 1, step)\n",
    "    \n",
    "    seqs = []\n",
    "    for start in bins:\n",
    "        end = start + bin_size\n",
    "        seq = seq_data[start:end]\n",
    "        if b'N' not in seq:\n",
    "            seqs.append(seq)\n",
    "\n",
    "    seqs = np.stack(seqs)\n",
    "    out_fn = Path(output_dir) / f'{chrom_name}.npz'\n",
    "    np.savez_compressed(out_fn, seqs=seqs)\n",
    "    "
   ]
  },
  {
   "cell_type": "code",
   "execution_count": 160,
   "id": "61168d23-2aa0-49cd-8b46-027032e4127d",
   "metadata": {},
   "outputs": [],
   "source": [
    "bin_genome_and_save(data, '20', 'test_data/')"
   ]
  },
  {
   "cell_type": "code",
   "execution_count": 163,
   "id": "84e85f27-79ad-4534-8c89-bc9460224a5b",
   "metadata": {},
   "outputs": [
    {
     "data": {
      "text/plain": [
       "array([[b'T', b'T', b'A', ..., b'A', b'T', b'T'],\n",
       "       [b'T', b'C', b'C', ..., b'T', b'T', b'C'],\n",
       "       [b'G', b'C', b'A', ..., b'T', b'C', b'C'],\n",
       "       ...,\n",
       "       [b'A', b'A', b'A', ..., b'A', b'T', b'T'],\n",
       "       [b'T', b'G', b'C', ..., b'A', b'A', b'C'],\n",
       "       [b'G', b'C', b'T', ..., b'G', b'G', b'A']],\n",
       "      shape=(249612, 512), dtype='|S1')"
      ]
     },
     "execution_count": 163,
     "metadata": {},
     "output_type": "execute_result"
    }
   ],
   "source": [
    "res"
   ]
  },
  {
   "cell_type": "code",
   "execution_count": 137,
   "id": "5c9a4e8e-3833-4bcd-ba4d-585574831038",
   "metadata": {},
   "outputs": [],
   "source": [
    "np.save('res.npy', res)"
   ]
  },
  {
   "cell_type": "code",
   "execution_count": 134,
   "id": "6ccacc4f-04f3-4e84-914c-cce9d711575d",
   "metadata": {},
   "outputs": [],
   "source": [
    "res = np.stack(res)"
   ]
  },
  {
   "cell_type": "code",
   "execution_count": 138,
   "id": "3ad112c5-e019-4722-bf60-94eda9f67e3d",
   "metadata": {},
   "outputs": [],
   "source": [
    "np.savez_compressed('res.npz', res=res)"
   ]
  },
  {
   "cell_type": "code",
   "execution_count": 140,
   "id": "6db2426d-e6b1-41d0-b76b-d5b0e116e595",
   "metadata": {},
   "outputs": [],
   "source": [
    "x = np.load('res.npz')['res']"
   ]
  },
  {
   "cell_type": "code",
   "execution_count": 147,
   "id": "ba1ebfbb-4573-4696-92cd-2aba774c7aa9",
   "metadata": {},
   "outputs": [],
   "source": [
    "y = np.concat([x, x], axis = 0)"
   ]
  },
  {
   "cell_type": "code",
   "execution_count": 154,
   "id": "8de4408c-f5b1-4bd9-8999-ec15e305bd1b",
   "metadata": {},
   "outputs": [],
   "source": []
  },
  {
   "cell_type": "code",
   "execution_count": 155,
   "id": "15f2a66e-d76d-4d5b-ba39-dd6f05c81b4f",
   "metadata": {},
   "outputs": [
    {
     "data": {
      "text/plain": [
       "PosixPath('test_data/20.npz')"
      ]
     },
     "execution_count": 155,
     "metadata": {},
     "output_type": "execute_result"
    }
   ],
   "source": [
    "out_fn"
   ]
  },
  {
   "cell_type": "code",
   "execution_count": 151,
   "id": "5c93637f-cd95-436d-bfe7-6117d409e1e1",
   "metadata": {},
   "outputs": [
    {
     "data": {
      "text/plain": [
       "'test_data'"
      ]
     },
     "execution_count": 151,
     "metadata": {},
     "output_type": "execute_result"
    }
   ],
   "source": [
    "output_dir"
   ]
  },
  {
   "cell_type": "code",
   "execution_count": null,
   "id": "6fcb146d-3dfe-4640-beb8-8248251b4b50",
   "metadata": {},
   "outputs": [],
   "source": []
  },
  {
   "cell_type": "code",
   "execution_count": 26,
   "id": "e6f3e897-46a4-449f-97f3-2cb1086a239e",
   "metadata": {},
   "outputs": [],
   "source": [
    "chrom = '1'"
   ]
  },
  {
   "cell_type": "code",
   "execution_count": 27,
   "id": "29477e84-8930-4299-8b31-733fbd2a8a09",
   "metadata": {},
   "outputs": [],
   "source": [
    "a = fasta.fetch(chrom)"
   ]
  },
  {
   "cell_type": "code",
   "execution_count": 29,
   "id": "f0a7c31e-c38e-44dc-8ad3-391fb784c191",
   "metadata": {},
   "outputs": [],
   "source": [
    "a = list(a)"
   ]
  },
  {
   "cell_type": "code",
   "execution_count": null,
   "id": "eb9af883-0562-4d1e-ade1-553596f5e132",
   "metadata": {},
   "outputs": [],
   "source": [
    "fasta = pysam.FastaFile(genome_path)\n",
    "chroms = [str(i) for i in range(1, nchrom + 1)]  # Chromosome names as \"1\", \"2\", ..., \"nchrom\"\n",
    "\n",
    "data = {}\n",
    "for chrom in chroms:\n",
    "    seq = fasta.fetch(chrom)  # Fetch chromosome sequence\n",
    "    seq_list = list(seq)  # Convert to list of characters\n",
    "    data[chrom] = np.array(seq_list, dtype=\"S1\")  # Convert to NumPy array with dtype 'S1'\n",
    "\n",
    "np.savez_compressed(output_path, **data)  # Save as npz file\n",
    "fasta.close()"
   ]
  },
  {
   "cell_type": "code",
   "execution_count": 33,
   "id": "670e1e67-d07d-4f8d-8a3a-8f9d0aca7944",
   "metadata": {},
   "outputs": [],
   "source": [
    "x = np.load('test.npz')"
   ]
  },
  {
   "cell_type": "code",
   "execution_count": 53,
   "id": "cc34daca-b062-4fe2-bdb3-a519a6611370",
   "metadata": {},
   "outputs": [],
   "source": [
    "a = x['20'][100000:100010]"
   ]
  },
  {
   "cell_type": "code",
   "execution_count": 88,
   "id": "66aaa23e-cba9-4ac2-bea9-65d46fd9ae0a",
   "metadata": {},
   "outputs": [],
   "source": [
    "# onehot encoding\n",
    "vocab = np.array(list('ACGT'), dtype = 'S1')\n",
    "vocab = vocab[:,None]\n",
    "\n",
    "def one_hot(dna, out_int = False):\n",
    "    dna = dna[None,:]\n",
    "    encode = np.int8(dna == vocab)\n",
    "    if out_int:\n",
    "        encode = np.int8(encode.argmax(1))\n",
    "    return encode"
   ]
  },
  {
   "cell_type": "code",
   "execution_count": 89,
   "id": "204bc448-dc12-4320-b298-62a6c123622c",
   "metadata": {},
   "outputs": [
    {
     "data": {
      "text/plain": [
       "array([[0, 0, 0, 1, 0, 0, 1, 0, 0, 0],\n",
       "       [0, 0, 0, 0, 0, 1, 0, 0, 0, 1],\n",
       "       [0, 0, 1, 0, 1, 0, 0, 0, 1, 0],\n",
       "       [1, 1, 0, 0, 0, 0, 0, 1, 0, 0]], dtype=int8)"
      ]
     },
     "execution_count": 89,
     "metadata": {},
     "output_type": "execute_result"
    }
   ],
   "source": [
    "one_hot(a)"
   ]
  },
  {
   "cell_type": "code",
   "execution_count": null,
   "id": "8299fe05-f26e-4aed-8d6b-29804f430a7f",
   "metadata": {},
   "outputs": [],
   "source": []
  },
  {
   "cell_type": "code",
   "execution_count": null,
   "id": "b0e71385-b610-41c2-976f-03b13ec866c5",
   "metadata": {},
   "outputs": [],
   "source": []
  },
  {
   "cell_type": "code",
   "execution_count": null,
   "id": "c52f8c5f-e0da-4dcf-8381-8a61a826db46",
   "metadata": {},
   "outputs": [],
   "source": []
  },
  {
   "cell_type": "code",
   "execution_count": 52,
   "id": "419adb46-ca03-41cb-ab14-aef2da765b58",
   "metadata": {},
   "outputs": [
    {
     "data": {
      "text/plain": [
       "(5, 1)"
      ]
     },
     "execution_count": 52,
     "metadata": {},
     "output_type": "execute_result"
    }
   ],
   "source": [
    "vocab.shape"
   ]
  },
  {
   "cell_type": "code",
   "execution_count": 61,
   "id": "f4dd9d25-89c6-4d35-965a-7121d11396a3",
   "metadata": {},
   "outputs": [
    {
     "data": {
      "text/plain": [
       "['20', '21', '22']"
      ]
     },
     "execution_count": 61,
     "metadata": {},
     "output_type": "execute_result"
    }
   ],
   "source": [
    "x.files"
   ]
  },
  {
   "cell_type": "code",
   "execution_count": null,
   "id": "14d9a014-efa2-42ee-a807-88bfbffbd4d9",
   "metadata": {},
   "outputs": [],
   "source": []
  },
  {
   "cell_type": "code",
   "execution_count": 68,
   "id": "6fc28f6c-e1a3-4a02-aee1-bf2732a1682d",
   "metadata": {},
   "outputs": [],
   "source": [
    "import pyBigWig\n",
    "\n",
    "# Open bigWig file\n",
    "bw = pyBigWig.open(\"/Users/datn/Downloads/Acinar.bw\")\n"
   ]
  },
  {
   "cell_type": "code",
   "execution_count": 69,
   "id": "c14e94a6-ba7b-4b38-bd70-34d1565d706e",
   "metadata": {},
   "outputs": [],
   "source": [
    "chromosomes = bw.chroms()"
   ]
  },
  {
   "cell_type": "code",
   "execution_count": 72,
   "id": "9fc78afe-2f54-4030-9fb8-0b91dfde9a92",
   "metadata": {},
   "outputs": [
    {
     "data": {
      "text/plain": [
       "248956422"
      ]
     },
     "execution_count": 72,
     "metadata": {},
     "output_type": "execute_result"
    }
   ],
   "source": [
    "chromosomes['chr1']"
   ]
  },
  {
   "cell_type": "code",
   "execution_count": 75,
   "id": "783d51fc-e755-4e9a-8979-5688dcb6a889",
   "metadata": {},
   "outputs": [
    {
     "data": {
      "text/plain": [
       "50818468"
      ]
     },
     "execution_count": 75,
     "metadata": {},
     "output_type": "execute_result"
    }
   ],
   "source": [
    "chromosomes['chr22']"
   ]
  },
  {
   "cell_type": "code",
   "execution_count": 73,
   "id": "a79091c0-3ed4-4f6b-86d8-a846afc73aff",
   "metadata": {},
   "outputs": [],
   "source": [
    "chr22 = bw.intervals('chr22', 0, chromosomes['chr22'])"
   ]
  },
  {
   "cell_type": "code",
   "execution_count": 80,
   "id": "7381ca55-eb15-40a9-bb82-c6d092ae9cc8",
   "metadata": {},
   "outputs": [
    {
     "data": {
      "text/plain": [
       "{'version': 4,\n",
       " 'nLevels': 10,\n",
       " 'nBasesCovered': 1824427902,\n",
       " 'minVal': 0,\n",
       " 'maxVal': 401,\n",
       " 'sumData': 999999999,\n",
       " 'sumSquared': 38099448465}"
      ]
     },
     "execution_count": 80,
     "metadata": {},
     "output_type": "execute_result"
    }
   ],
   "source": [
    "bw.header()"
   ]
  },
  {
   "cell_type": "code",
   "execution_count": 87,
   "id": "65f54737-4c16-44c2-87b1-97083279690f",
   "metadata": {},
   "outputs": [
    {
     "data": {
      "text/plain": [
       "np.float64(0.0)"
      ]
     },
     "execution_count": 87,
     "metadata": {},
     "output_type": "execute_result"
    }
   ],
   "source": [
    "np.log(1)"
   ]
  },
  {
   "cell_type": "code",
   "execution_count": null,
   "id": "1c39d860-5696-4b5a-bec6-cfa0153e835e",
   "metadata": {},
   "outputs": [],
   "source": []
  }
 ],
 "metadata": {
  "kernelspec": {
   "display_name": "Python 3 (ipykernel)",
   "language": "python",
   "name": "python3"
  },
  "language_info": {
   "codemirror_mode": {
    "name": "ipython",
    "version": 3
   },
   "file_extension": ".py",
   "mimetype": "text/x-python",
   "name": "python",
   "nbconvert_exporter": "python",
   "pygments_lexer": "ipython3",
   "version": "3.12.9"
  }
 },
 "nbformat": 4,
 "nbformat_minor": 5
}
